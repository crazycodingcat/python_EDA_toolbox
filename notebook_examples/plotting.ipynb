{
 "cells": [
  {
   "cell_type": "markdown",
   "metadata": {},
   "source": [
    "### Collection of convenient methods and examples for plotting nice charts\n",
    "Plotting nice charts in notebook can be time-consuming for novice Python users. You need to remember all the syntax for setting the style, custom labels, where to place the legend, etc., and you need to manipulate your data to get what you want. \n",
    "          \n",
    "Here, I'm trying to write some simple wrappers around existing plotting functions in Pandas, Seaborn, etc., and simplify the function definition with only the most commonly used parameters."
   ]
  },
  {
   "cell_type": "code",
   "execution_count": 1,
   "metadata": {
    "collapsed": true
   },
   "outputs": [],
   "source": [
    "import pandas as pd \n",
    "import numpy as np\n",
    "import matplotlib.pyplot as plt\n",
    "import seaborn as sns\n",
    "from matplotlib import cycler\n",
    "from matplotlib.ticker import FuncFormatter\n",
    "%matplotlib inline"
   ]
  },
  {
   "cell_type": "code",
   "execution_count": 2,
   "metadata": {},
   "outputs": [
    {
     "data": {
      "image/png": "[encoded data removed]",
      "text/plain": [
       "<matplotlib.figure.Figure at 0xbef16d8>"
      ]
     },
     "metadata": {},
     "output_type": "display_data"
    }
   ],
   "source": [
    "# default seaborn palette\n",
    "current_palette = sns.color_palette()\n",
    "sns.palplot(current_palette)"
   ]
  },
  {
   "cell_type": "code",
   "execution_count": 3,
   "metadata": {},
   "outputs": [
    {
     "data": {
      "image/png": "[encoded data removed]",
      "text/plain": [
       "<matplotlib.figure.Figure at 0xbf42dd8>"
      ]
     },
     "metadata": {},
     "output_type": "display_data"
    }
   ],
   "source": [
    "# Color scheme 1: cetegorical. modified from cat10 (d3). \n",
    "# Change the sequence depending on what you want as the default first few colors on your chart. \n",
    "# Here the default is set to scarlet red.\n",
    "cat10_palette = sns.color_palette(['#be0119', '#ff7f0e', '#2ca02c', '#1f77b4', '#9467bd', \n",
    "                 '#8c564b', '#e377c2', '#7f7f7f', '#bcbd22', '#17becf'])\n",
    "sns.palplot(cat10_palette)"
   ]
  },
  {
   "cell_type": "code",
   "execution_count": 72,
   "metadata": {},
   "outputs": [
    {
     "data": {
      "image/png": "[encoded data removed]",
      "text/plain": [
       "<matplotlib.figure.Figure at 0xe701ba8>"
      ]
     },
     "metadata": {},
     "output_type": "display_data"
    }
   ],
   "source": [
    "# Color scheme 2: sequential\n",
    "red_palette = sns.light_palette(\"firebrick\", reverse=True)\n",
    "sns.palplot(red_palette)"
   ]
  },
  {
   "cell_type": "code",
   "execution_count": 75,
   "metadata": {},
   "outputs": [
    {
     "data": {
      "image/png": "[encoded data removed]",
      "text/plain": [
       "<matplotlib.figure.Figure at 0xe64ad30>"
      ]
     },
     "metadata": {},
     "output_type": "display_data"
    }
   ],
   "source": [
    "# color scheme 3: diverging\n",
    "RdBu_r_palette = sns.color_palette(\"RdBu_r\", 6)\n",
    "sns.palplot(RdBu_r_palette)"
   ]
  },
  {
   "cell_type": "code",
   "execution_count": 6,
   "metadata": {
    "collapsed": true
   },
   "outputs": [],
   "source": [
    "sns.set_style('whitegrid')\n",
    "sns.set_palette(cat10_palette)\n",
    "# sns.set_palette(RdBu_r_palette)\n",
    "# sns.set_palette(red_palette)"
   ]
  },
  {
   "cell_type": "code",
   "execution_count": 5,
   "metadata": {},
   "outputs": [
    {
     "data": {
      "text/html": [
       "<div>\n",
       "<style>\n",
       "    .dataframe thead tr:only-child th {\n",
       "        text-align: right;\n",
       "    }\n",
       "\n",
       "    .dataframe thead th {\n",
       "        text-align: left;\n",
       "    }\n",
       "\n",
       "    .dataframe tbody tr th {\n",
       "        vertical-align: top;\n",
       "    }\n",
       "</style>\n",
       "<table border=\"1\" class=\"dataframe\">\n",
       "  <thead>\n",
       "    <tr style=\"text-align: right;\">\n",
       "      <th></th>\n",
       "      <th>survived</th>\n",
       "      <th>pclass</th>\n",
       "      <th>sex</th>\n",
       "      <th>age</th>\n",
       "      <th>sibsp</th>\n",
       "      <th>parch</th>\n",
       "      <th>fare</th>\n",
       "      <th>embarked</th>\n",
       "      <th>class</th>\n",
       "      <th>who</th>\n",
       "      <th>adult_male</th>\n",
       "      <th>deck</th>\n",
       "      <th>embark_town</th>\n",
       "      <th>alive</th>\n",
       "      <th>alone</th>\n",
       "    </tr>\n",
       "  </thead>\n",
       "  <tbody>\n",
       "    <tr>\n",
       "      <th>0</th>\n",
       "      <td>0</td>\n",
       "      <td>3</td>\n",
       "      <td>male</td>\n",
       "      <td>22.0</td>\n",
       "      <td>1</td>\n",
       "      <td>0</td>\n",
       "      <td>7.2500</td>\n",
       "      <td>S</td>\n",
       "      <td>Third</td>\n",
       "      <td>man</td>\n",
       "      <td>True</td>\n",
       "      <td>NaN</td>\n",
       "      <td>Southampton</td>\n",
       "      <td>no</td>\n",
       "      <td>False</td>\n",
       "    </tr>\n",
       "    <tr>\n",
       "      <th>1</th>\n",
       "      <td>1</td>\n",
       "      <td>1</td>\n",
       "      <td>female</td>\n",
       "      <td>38.0</td>\n",
       "      <td>1</td>\n",
       "      <td>0</td>\n",
       "      <td>71.2833</td>\n",
       "      <td>C</td>\n",
       "      <td>First</td>\n",
       "      <td>woman</td>\n",
       "      <td>False</td>\n",
       "      <td>C</td>\n",
       "      <td>Cherbourg</td>\n",
       "      <td>yes</td>\n",
       "      <td>False</td>\n",
       "    </tr>\n",
       "    <tr>\n",
       "      <th>2</th>\n",
       "      <td>1</td>\n",
       "      <td>3</td>\n",
       "      <td>female</td>\n",
       "      <td>26.0</td>\n",
       "      <td>0</td>\n",
       "      <td>0</td>\n",
       "      <td>7.9250</td>\n",
       "      <td>S</td>\n",
       "      <td>Third</td>\n",
       "      <td>woman</td>\n",
       "      <td>False</td>\n",
       "      <td>NaN</td>\n",
       "      <td>Southampton</td>\n",
       "      <td>yes</td>\n",
       "      <td>True</td>\n",
       "    </tr>\n",
       "    <tr>\n",
       "      <th>3</th>\n",
       "      <td>1</td>\n",
       "      <td>1</td>\n",
       "      <td>female</td>\n",
       "      <td>35.0</td>\n",
       "      <td>1</td>\n",
       "      <td>0</td>\n",
       "      <td>53.1000</td>\n",
       "      <td>S</td>\n",
       "      <td>First</td>\n",
       "      <td>woman</td>\n",
       "      <td>False</td>\n",
       "      <td>C</td>\n",
       "      <td>Southampton</td>\n",
       "      <td>yes</td>\n",
       "      <td>False</td>\n",
       "    </tr>\n",
       "    <tr>\n",
       "      <th>4</th>\n",
       "      <td>0</td>\n",
       "      <td>3</td>\n",
       "      <td>male</td>\n",
       "      <td>35.0</td>\n",
       "      <td>0</td>\n",
       "      <td>0</td>\n",
       "      <td>8.0500</td>\n",
       "      <td>S</td>\n",
       "      <td>Third</td>\n",
       "      <td>man</td>\n",
       "      <td>True</td>\n",
       "      <td>NaN</td>\n",
       "      <td>Southampton</td>\n",
       "      <td>no</td>\n",
       "      <td>True</td>\n",
       "    </tr>\n",
       "  </tbody>\n",
       "</table>\n",
       "</div>"
      ],
      "text/plain": [
       "   survived  pclass     sex   age  sibsp  parch     fare embarked  class  \\\n",
       "0         0       3    male  22.0      1      0   7.2500        S  Third   \n",
       "1         1       1  female  38.0      1      0  71.2833        C  First   \n",
       "2         1       3  female  26.0      0      0   7.9250        S  Third   \n",
       "3         1       1  female  35.0      1      0  53.1000        S  First   \n",
       "4         0       3    male  35.0      0      0   8.0500        S  Third   \n",
       "\n",
       "     who  adult_male deck  embark_town alive  alone  \n",
       "0    man        True  NaN  Southampton    no  False  \n",
       "1  woman       False    C    Cherbourg   yes  False  \n",
       "2  woman       False  NaN  Southampton   yes   True  \n",
       "3  woman       False    C  Southampton   yes  False  \n",
       "4    man        True  NaN  Southampton    no   True  "
      ]
     },
     "execution_count": 5,
     "metadata": {},
     "output_type": "execute_result"
    }
   ],
   "source": [
    "df = pd.read_csv(\"../data/titanic.csv\")\n",
    "df.head()"
   ]
  },
  {
   "cell_type": "code",
   "execution_count": 7,
   "metadata": {
    "collapsed": true
   },
   "outputs": [],
   "source": [
    "def plot_hist(data, ax=None, x_label=None, y_label=None, title=None, \n",
    "              lb=None, ub=None, bins=50, log_x=False, figsize=(6, 4)):\n",
    "    \"\"\"\n",
    "    Plots a histogram using matplotlib's histogram plotting\n",
    "    \n",
    "    Parameters\n",
    "    ----------\n",
    "    data: pandas series, list of series or df\n",
    "    ax: if provided, plot on this axis\n",
    "    x_label, y_label: x and y axis labels\n",
    "    title: title of chart\n",
    "    lb, ub: lower bound and upper bound of data to be plotted. This is a global filter applied to all columns.\n",
    "    bins: number of bins in histogram\n",
    "    log_x: boolean. whether to use log spaced bins\n",
    "    figsize: tuple. size of the chart\n",
    "    \"\"\"\n",
    "# TODO: handle when data = list of series or df\n",
    "#     if isinstance(data, pd.Series):\n",
    "#         data = pd.DataFrame(data)\n",
    "#     elif isinstance(data, list):\n",
    "#         data = pd.DataFrame(data).T\n",
    "#     for col in data.columns:\n",
    "#         s = data[col]\n",
    "    s = data.dropna()\n",
    "        \n",
    "    if lb is not None:\n",
    "        s = s[(s > lb)]\n",
    "    if ub is not None:\n",
    "        s = s[(s < ub)]\n",
    "    \n",
    "    if ax is None:\n",
    "        fig, ax = plt.subplots(figsize=figsize)\n",
    "    \n",
    "    if log_x == True:\n",
    "        if (s <= 0).sum() > 0:\n",
    "            raise ValueError('To use log scale, all values need to be positive') \n",
    "#         s = np.log10(s)\n",
    "        bins = np.logspace(np.log10(s.min()), np.log10(s.max()), bins)\n",
    "        plt.xscale('log')\n",
    "        \n",
    "    ax.hist(s, bins=bins)\n",
    "    \n",
    "    if title is not None:\n",
    "        ax.set_title(title)\n",
    "    else:\n",
    "        ax.set_title('Histogram')\n",
    "    if x_label is not None:\n",
    "        ax.set_xlabel(x_label)\n",
    "    if y_label is not None:\n",
    "        ax.set_ylabel(y_label)\n",
    "        \n",
    "#     if log_x == True:\n",
    "#         def format_fn(tick_val, tick_pos):\n",
    "#             return 10**tick_val\n",
    "#         ax.xaxis.set_major_formatter(FuncFormatter(format_fn))\n",
    "\n",
    "        \n",
    "# cumulative fraction plot (ECDF)\n",
    "def plot_fraction(s, x_percentage=False, x_cumulative=False, ax=None, x_label=None, y_label=None, title=None, \n",
    "              lb=None, ub=None, bins=50, figsize=(6, 4)):\n",
    "    \"\"\"\n",
    "    Plots a cumulative fraction plot\n",
    "    \n",
    "    Parameters\n",
    "    ----------\n",
    "    s: pandas series\n",
    "    x_percentage: boolean. If True, show x values as percentage instead of actual values\n",
    "    x_cumulative: boolean. If True, show cumulative x values\n",
    "    ax: if provided, plot on this axis\n",
    "    x_label, y_label: x and y axis labels\n",
    "    title: title of chart\n",
    "    lb, ub: lower bound and upper bound of data to be plotted\n",
    "    bins: number of bins in histogram\n",
    "    figsize: tuple. size of the chart\n",
    "    \"\"\"\n",
    "    from statsmodels.distributions.empirical_distribution import ECDF\n",
    "    \n",
    "    if ax is None:\n",
    "        fig, ax = plt.subplots(figsize=figsize)\n",
    "    \n",
    "    ecdf = ECDF(df.fare)\n",
    "    x = ecdf.x\n",
    "    y = ecdf.y\n",
    "    \n",
    "    if x_cumulative == True:\n",
    "        x[np.isneginf(x)] = 0\n",
    "        x = x.cumsum()\n",
    "    if x_percentage == True:\n",
    "        x = x/x.max()\n",
    "    \n",
    "    ax.plot(x, y)\n",
    "    if title is not None:\n",
    "        ax.set_title(title)\n",
    "    else:\n",
    "        ax.set_title('Cumulative Fraction Plot')\n",
    "    if x_label is not None:\n",
    "        ax.set_xlabel(x_label)\n",
    "    if y_label is not None:\n",
    "        ax.set_ylabel(y_label)\n",
    "        \n",
    "#     if annotate_x is None:\n",
    "#         ax.axvline(100, ymin=0, ymax=0.8)\n",
    "    return ax\n",
    "\n",
    "def plot_bar_ratio(df, by, cols=None):\n",
    "    \"\"\"\n",
    "    Shows relative contribution (sum) of each group in each dimension\n",
    "    \n",
    "    Parameters\n",
    "    ----------\n",
    "    df: dataframe to plot\n",
    "    by: str. column to group by\n",
    "    cols: list of str. selected columns to plot.\n",
    "    \"\"\"\n",
    "    if cols is not None:\n",
    "        df = df[cols + [by]]\n",
    "    tdf = df.groupby(by).sum()\n",
    "    tdf = tdf / tdf.sum(axis=0)\n",
    "    tdf.T.plot.barh(stacked=True)\n",
    "    plt.legend(bbox_to_anchor=(1.05, 1), loc='upper left', borderaxespad=0.) #places legend outside on the right"
   ]
  },
  {
   "cell_type": "code",
   "execution_count": 177,
   "metadata": {},
   "outputs": [
    {
     "data": {
      "image/png": "[encoded data removed]",
      "text/plain": [
       "<matplotlib.figure.Figure at 0xc4cf7f0>"
      ]
     },
     "metadata": {},
     "output_type": "display_data"
    }
   ],
   "source": [
    "plot_hist(df.fare, x_label='Fare', y_label='Number of passengers')"
   ]
  },
  {
   "cell_type": "code",
   "execution_count": 56,
   "metadata": {},
   "outputs": [
    {
     "data": {
      "image/png": "[encoded data removed]",
      "text/plain": [
       "<matplotlib.figure.Figure at 0xe6fdc18>"
      ]
     },
     "metadata": {},
     "output_type": "display_data"
    }
   ],
   "source": [
    "plot_hist(df.fare, x_label='Fare', y_label='Number of passengers', ub=200)"
   ]
  },
  {
   "cell_type": "code",
   "execution_count": 7,
   "metadata": {},
   "outputs": [
    {
     "data": {
      "image/png": "[encoded data removed]",
      "text/plain": [
       "<matplotlib.figure.Figure at 0xc23bef0>"
      ]
     },
     "metadata": {},
     "output_type": "display_data"
    }
   ],
   "source": [
    "plot_hist(df.fare[df.fare > 0], x_label='Fare', y_label='Number of passengers', log_x=True)"
   ]
  },
  {
   "cell_type": "code",
   "execution_count": 8,
   "metadata": {},
   "outputs": [
    {
     "data": {
      "text/plain": [
       "<matplotlib.axes._subplots.AxesSubplot at 0xc4e5828>"
      ]
     },
     "execution_count": 8,
     "metadata": {},
     "output_type": "execute_result"
    },
    {
     "data": {
      "image/png": "[encoded data removed]",
      "text/plain": [
       "<matplotlib.figure.Figure at 0xbf52e80>"
      ]
     },
     "metadata": {},
     "output_type": "display_data"
    }
   ],
   "source": [
    "plot_fraction(df.fare)"
   ]
  },
  {
   "cell_type": "code",
   "execution_count": 9,
   "metadata": {},
   "outputs": [
    {
     "data": {
      "text/plain": [
       "<matplotlib.axes._subplots.AxesSubplot at 0xc301fd0>"
      ]
     },
     "execution_count": 9,
     "metadata": {},
     "output_type": "execute_result"
    },
    {
     "data": {
      "image/png": "[encoded data removed]",
      "text/plain": [
       "<matplotlib.figure.Figure at 0xc60c128>"
      ]
     },
     "metadata": {},
     "output_type": "display_data"
    }
   ],
   "source": [
    "plot_fraction(df.fare, x_cumulative=True)"
   ]
  },
  {
   "cell_type": "code",
   "execution_count": 130,
   "metadata": {},
   "outputs": [
    {
     "data": {
      "image/png": "[encoded data removed]",
      "text/plain": [
       "<matplotlib.figure.Figure at 0xe8b2630>"
      ]
     },
     "metadata": {},
     "output_type": "display_data"
    }
   ],
   "source": [
    "plot_fraction(df.fare, x_cumulative=True, x_percentage=True)"
   ]
  },
  {
   "cell_type": "code",
   "execution_count": 79,
   "metadata": {},
   "outputs": [
    {
     "data": {
      "image/png": "[encoded data removed]",
      "text/plain": [
       "<matplotlib.figure.Figure at 0xea072e8>"
      ]
     },
     "metadata": {},
     "output_type": "display_data"
    }
   ],
   "source": [
    "plot_bar_ratio(df, by='class')"
   ]
  },
  {
   "cell_type": "code",
   "execution_count": 80,
   "metadata": {},
   "outputs": [
    {
     "data": {
      "image/png": "[encoded data removed]",
      "text/plain": [
       "<matplotlib.figure.Figure at 0xdfba2e8>"
      ]
     },
     "metadata": {},
     "output_type": "display_data"
    }
   ],
   "source": [
    "plot_bar_ratio(df, by='class', cols=['fare', 'age'])"
   ]
  },
  {
   "cell_type": "code",
   "execution_count": 167,
   "metadata": {
    "collapsed": true
   },
   "outputs": [],
   "source": [
    "# plotting multiple charts\n",
    "def plot_grid(nrows, ncols, figsize=(16, 4)):\n",
    "    \"\"\"\n",
    "    plotting charts in m x n grids\n",
    "    \n",
    "    Not very useful...\n",
    "    ----------\n",
    "    \n",
    "    \"\"\"\n",
    "    fig, axes = plt.subplots(nrows, ncols, figsize=figsize)\n",
    "    return axes.ravel()"
   ]
  },
  {
   "cell_type": "markdown",
   "metadata": {},
   "source": [
    "if you want to plot multiple charts in a m by n grid, you can call plot_grid(m, n) first, which will give you a list of axes. Then you can call the plot function one by one, passing axes[i] parameter to each plot. This is useful when you need to plot charts of different kind or differnt settings."
   ]
  },
  {
   "cell_type": "code",
   "execution_count": 180,
   "metadata": {},
   "outputs": [
    {
     "data": {
      "image/png": "[encoded data removed]",
      "text/plain": [
       "<matplotlib.figure.Figure at 0x1172da20>"
      ]
     },
     "metadata": {},
     "output_type": "display_data"
    }
   ],
   "source": [
    "axes = plot_grid(1,3)\n",
    "plot_fraction(df.fare, x_cumulative=True, x_percentage=True, ax=axes[0])\n",
    "plot_fraction(df.fare, x_cumulative=True, x_percentage=False, ax=axes[1])\n",
    "plot_hist(df.fare, x_label='Fare', y_label='Number of passengers', ub=200, ax=axes[2])"
   ]
  },
  {
   "cell_type": "markdown",
   "metadata": {},
   "source": [
    "If the you want to plot same kind of chart for multiple columns (e.g. histogram of each column), you can pass a dataframe or list of dataframe to plot_hist(), but the parameters such as lb, ub will be shared across all charts."
   ]
  },
  {
   "cell_type": "markdown",
   "metadata": {},
   "source": [
    "### References"
   ]
  },
  {
   "cell_type": "markdown",
   "metadata": {},
   "source": [
    "Placement of legend\n",
    "![](../img/ref/legend_placement.png)"
   ]
  },
  {
   "cell_type": "code",
   "execution_count": null,
   "metadata": {
    "collapsed": true
   },
   "outputs": [],
   "source": []
  }
 ],
 "metadata": {
  "kernelspec": {
   "display_name": "Python 2",
   "language": "python",
   "name": "python2"
  },
  "language_info": {
   "codemirror_mode": {
    "name": "ipython",
    "version": 2
   },
   "file_extension": ".py",
   "mimetype": "text/x-python",
   "name": "python",
   "nbconvert_exporter": "python",
   "pygments_lexer": "ipython2",
   "version": "2.7.13"
  }
 },
 "nbformat": 4,
 "nbformat_minor": 2
}
